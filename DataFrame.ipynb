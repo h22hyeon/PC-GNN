{
 "cells": [
  {
   "cell_type": "code",
   "execution_count": 79,
   "metadata": {},
   "outputs": [],
   "source": [
    "import json\n",
    "import pickle\n",
    "import pandas as pd"
   ]
  },
  {
   "attachments": {},
   "cell_type": "markdown",
   "metadata": {},
   "source": [
    "## **PC-GNN Supervised setting**"
   ]
  },
  {
   "cell_type": "code",
   "execution_count": 74,
   "metadata": {},
   "outputs": [],
   "source": [
    "amazon = pd.read_pickle(\"./experimental_results(Saved)/test_df/PCGNN-amazon.pkl\")\n",
    "yelp = pd.read_pickle(\"./experimental_results(Saved)/test_df/PCGNN-yelp.pkl\")"
   ]
  },
  {
   "cell_type": "code",
   "execution_count": 75,
   "metadata": {},
   "outputs": [
    {
     "name": "stdout",
     "output_type": "stream",
     "text": [
      "Amazon - AUC      : 0.9564±0.0060\n",
      "Amazon - F1-macro : 0.8777±0.0115\n",
      "YelpChi - AUC      : 0.8573±0.0098\n",
      "YelpChi - F1-macro : 0.6933±0.0348\n"
     ]
    }
   ],
   "source": [
    "# Supervised setting Amazon : PC-GNN\n",
    "supervised_amazon = amazon.loc[amazon[\"seed\"] !='41'].sort_values(by=[\"auc\"], ascending=False)\n",
    "auc = \"{:.4f}±{:.4f}\".format(supervised_amazon[\"auc\"].mean(), supervised_amazon[\"auc\"].std())\n",
    "f1_macro = \"{:.4f}±{:.4f}\".format(supervised_amazon[\"f1_macro\"].mean(), supervised_amazon[\"f1_macro\"].std())\n",
    "print(\"Amazon - AUC      :\",auc)\n",
    "print(\"Amazon - F1-macro :\",f1_macro)\n",
    "\n",
    "# Supervised setting YelpChi : PC-GNN\n",
    "supervised_yelp = yelp.loc[yelp[\"seed\"] !='41'].sort_values(by=[\"auc\"], ascending=False)\n",
    "auc = \"{:.4f}±{:.4f}\".format(supervised_yelp[\"auc\"].mean(), supervised_yelp[\"auc\"].std())\n",
    "f1_macro = \"{:.4f}±{:.4f}\".format(supervised_yelp[\"f1_macro\"].mean(), supervised_yelp[\"f1_macro\"].std())\n",
    "print(\"YelpChi - AUC      :\",auc)\n",
    "print(\"YelpChi - F1-macro :\",f1_macro)\n",
    "# supervised_amazon.to_pickle(\"./Amazon(PCGNN,Supervised).pkl\")\n",
    "# supervised_yelp.to_pickle(\"./YelpChi(PCGNN,Supervised).pkl\")"
   ]
  },
  {
   "attachments": {},
   "cell_type": "markdown",
   "metadata": {},
   "source": [
    "## **PC-GNN Semi-Supervised setting file generation**"
   ]
  },
  {
   "cell_type": "code",
   "execution_count": 76,
   "metadata": {},
   "outputs": [],
   "source": [
    "config = None\n",
    "with open(\"./PCGNN_exp_configs_semi_supervised_setting_grid_search/0000.json\", 'r') as file:\n",
    "        config = json.load(file)\n",
    "keys = config.keys()\n",
    "semi_amazon = amazon.loc[amazon[\"seed\"] =='41'].sort_values(by=[\"auc\"], ascending=False)\n",
    "semi_yelp = yelp.loc[yelp[\"seed\"] =='41'].sort_values(by=[\"auc\"], ascending=False)\n",
    "# semi_amazon.to_pickle(\"./Amazon(PCGNN,Semi-Supervised-params).pkl\")\n",
    "# semi_yelp.to_pickle(\"./YelpChi(PCGNN,Semi-Supervised-params).pkl\")"
   ]
  },
  {
   "cell_type": "code",
   "execution_count": 77,
   "metadata": {},
   "outputs": [],
   "source": [
    "count = 0\n",
    "seeds = [2, 3, 5, 7, 11, 13, 17, 19, 23, 29]\n",
    "for seed in seeds:\n",
    "        amazon_dic = {}\n",
    "        for key in keys:\n",
    "                if key in ['data_name', 'model', 'exp_num']:\n",
    "                        amazon_dic[key] = semi_amazon.iloc[0][key]\n",
    "                elif key in ['train_ratio', 'test_ratio', 'lr', 'weight_decay', 'rho']:\n",
    "                        amazon_dic[key] = float(semi_amazon.iloc[0][key])\n",
    "                else:\n",
    "                        amazon_dic[key] = int(semi_amazon.iloc[0][key])\n",
    "        amazon_dic['seed'] = seed\n",
    "        # with open(f\"./PCGNN_exp_configs_semi_supervised_setting_exp/{str(count).zfill(4)}.json\", \"w\") as outfile:\n",
    "        #         json.dump(amazon_dic, outfile, indent=3)\n",
    "        #         count += 1\n",
    "\n",
    "for seed in seeds:\n",
    "        yelp_dic = {}\n",
    "        for key in keys:\n",
    "                if key in ['data_name', 'model', 'exp_num']:\n",
    "                        yelp_dic[key] = semi_yelp.iloc[0][key]\n",
    "                elif key in ['train_ratio', 'test_ratio', 'lr', 'weight_decay', 'rho']:\n",
    "                        yelp_dic[key] = float(semi_yelp.iloc[0][key])\n",
    "                else:\n",
    "                        yelp_dic[key] = int(semi_yelp.iloc[0][key])\n",
    "        yelp_dic['seed'] = seed\n",
    "        # with open(f\"./PCGNN_exp_configs_semi_supervised_setting_exp/{str(count).zfill(4)}.json\", \"w\") as outfile:\n",
    "        #         json.dump(yelp_dic, outfile, indent=3)\n",
    "        #         count += 1"
   ]
  },
  {
   "attachments": {},
   "cell_type": "markdown",
   "metadata": {},
   "source": [
    "## **PC-GNN Semi-Supervised setting**"
   ]
  },
  {
   "cell_type": "code",
   "execution_count": 82,
   "metadata": {},
   "outputs": [],
   "source": [
    "amazon = pd.read_pickle(\"./experimental_results(Semi-Supervised_exp)/test_df/PCGNN-amazon.pkl\")\n",
    "yelp = pd.read_pickle(\"./experimental_results(Semi-Supervised_exp)/test_df/PCGNN-yelp.pkl\")"
   ]
  },
  {
   "cell_type": "code",
   "execution_count": 85,
   "metadata": {},
   "outputs": [
    {
     "name": "stdout",
     "output_type": "stream",
     "text": [
      "Amazon - AUC      : 0.9230±0.0190\n",
      "Amazon - F1-macro : 0.8272±0.1317\n",
      "YelpChi - AUC      : 0.7533±0.0143\n",
      "YelpChi - F1-macro : 0.6296±0.0227\n"
     ]
    }
   ],
   "source": [
    "# Semi-Supervised setting Amazon : PC-GNN\n",
    "semi_amazon = amazon.loc[amazon[\"seed\"] !='41'].sort_values(by=[\"auc\"], ascending=False)\n",
    "auc = \"{:.4f}±{:.4f}\".format(semi_amazon[\"auc\"].mean(), semi_amazon[\"auc\"].std())\n",
    "f1_macro = \"{:.4f}±{:.4f}\".format(semi_amazon[\"f1_macro\"].mean(), semi_amazon[\"f1_macro\"].std())\n",
    "print(\"Amazon - AUC      :\",auc)\n",
    "print(\"Amazon - F1-macro :\",f1_macro)\n",
    "\n",
    "# Semi-Supervised setting YelpChi : PC-GNN\n",
    "semi_yelp = yelp.loc[yelp[\"seed\"] !='41'].sort_values(by=[\"auc\"], ascending=False)\n",
    "auc = \"{:.4f}±{:.4f}\".format(semi_yelp[\"auc\"].mean(), semi_yelp[\"auc\"].std())\n",
    "f1_macro = \"{:.4f}±{:.4f}\".format(semi_yelp[\"f1_macro\"].mean(), semi_yelp[\"f1_macro\"].std())\n",
    "print(\"YelpChi - AUC      :\",auc)\n",
    "print(\"YelpChi - F1-macro :\",f1_macro)\n",
    "semi_amazon.to_pickle(\"./Amazon(PCGNN,Semi-Supervised).pkl\")\n",
    "semi_yelp.to_pickle(\"./YelpChi(PCGNN,Semi-Supervised).pkl\")"
   ]
  },
  {
   "cell_type": "code",
   "execution_count": null,
   "metadata": {},
   "outputs": [],
   "source": []
  }
 ],
 "metadata": {
  "kernelspec": {
   "display_name": "fraud",
   "language": "python",
   "name": "python3"
  },
  "language_info": {
   "codemirror_mode": {
    "name": "ipython",
    "version": 3
   },
   "file_extension": ".py",
   "mimetype": "text/x-python",
   "name": "python",
   "nbconvert_exporter": "python",
   "pygments_lexer": "ipython3",
   "version": "3.8.16"
  },
  "orig_nbformat": 4
 },
 "nbformat": 4,
 "nbformat_minor": 2
}
