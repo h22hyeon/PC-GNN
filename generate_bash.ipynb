{
 "cells": [
  {
   "cell_type": "code",
   "execution_count": 1,
   "metadata": {},
   "outputs": [],
   "source": [
    "import os"
   ]
  },
  {
   "cell_type": "code",
   "execution_count": 2,
   "metadata": {},
   "outputs": [],
   "source": [
    "json_dir_path = \"./PCGNN_05per/grid_search\"\n",
    "bash_path = \"./grid_search.sh\"\n",
    "json_paths = [os.path.join(json_dir_path, file_name) for file_name in os.listdir(json_dir_path)]"
   ]
  },
  {
   "cell_type": "code",
   "execution_count": 3,
   "metadata": {},
   "outputs": [],
   "source": [
    "file = open(bash_path, \"w\")\n",
    "file.write(\"#!/bin/bash\\n\")\n",
    "\n",
    "count = 0\n",
    "for path in json_paths:\n",
    "    line = f\"CUDA_VISIBLE_DEVICES={count%3} python ./main.py --exp_config_path={path}\"\n",
    "    count += 1\n",
    "    if (count % 9 == 0):\n",
    "        line_num = 0\n",
    "        line += \"&&\\n\"\n",
    "        file.write(line)\n",
    "        file.write(\"wait\\necho \\\"End of exeriment\\\"\\n\")\n",
    "    else:\n",
    "        line += \"&\\n\"\n",
    "        file.write(line)\n",
    "file.close()"
   ]
  }
 ],
 "metadata": {
  "kernelspec": {
   "display_name": "FDS",
   "language": "python",
   "name": "python3"
  },
  "language_info": {
   "codemirror_mode": {
    "name": "ipython",
    "version": 3
   },
   "file_extension": ".py",
   "mimetype": "text/x-python",
   "name": "python",
   "nbconvert_exporter": "python",
   "pygments_lexer": "ipython3",
   "version": "3.8.16"
  },
  "orig_nbformat": 4
 },
 "nbformat": 4,
 "nbformat_minor": 2
}
