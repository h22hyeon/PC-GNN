{
 "cells": [
  {
   "cell_type": "code",
   "execution_count": 10,
   "metadata": {},
   "outputs": [],
   "source": [
    "import json\n",
    "import pickle\n",
    "import itertools\n",
    "\n",
    "import os\n",
    "import pandas as pd\n",
    "import argparse"
   ]
  },
  {
   "cell_type": "code",
   "execution_count": 11,
   "metadata": {},
   "outputs": [],
   "source": [
    "seed_l = [2, 3, 5, 7, 11, 13, 17, 19 ,23, 29]\n",
    "data_name_l = [\"yelp\", \"amazon_new\"]\n",
    "model = \"PCGNN\"\n",
    "train_ratio_l = [0.01, 0.05, 0.1, 0.4]\n",
    "TEST_RATIO = 0.67\n",
    "EMB_SIZE = 64\n",
    "LR = 0.01\n",
    "STEP_SIZE = 0.02\n",
    "SIM_LOSS_WEIGHT = 2\n",
    "EPOCHS = 1000\n",
    "VALID_EPOCHS = 10\n",
    "PATIENCE = 100"
   ]
  },
  {
   "cell_type": "code",
   "execution_count": 12,
   "metadata": {},
   "outputs": [],
   "source": [
    "for seed in seed_l:\n",
    "        dir_path = f'./exp_config_PCGNN_grid_{seed}'\n",
    "        os.makedirs(dir_path, exist_ok=True)\n",
    "        count = 0\n",
    "        for params in itertools.product(data_name_l, train_ratio_l):\n",
    "                data_name, train_ratio = params\n",
    "                args = argparse.Namespace(\n",
    "                        seed = seed, # 고정\n",
    "                        data_name=data_name,\n",
    "                        model = model,\n",
    "                        train_ratio = train_ratio,\n",
    "                        test_ratio = TEST_RATIO, # 고정\n",
    "                        emb_size = EMB_SIZE, # 고정\n",
    "                        lr = 0.01 if data_name == 'yelp' else 0.005,\n",
    "                        weight_decay = 0.001 if data_name == 'yelp' else 0.0005,\n",
    "                        alpha = 2,\n",
    "                        rho = 0.5,\n",
    "                        epochs = EPOCHS, # 고정  \n",
    "                        valid_epochs = VALID_EPOCHS, # 고정\n",
    "                        batch_size = 1024 if data_name == 'yelp' else 256,\n",
    "                        patience = PATIENCE, # 고정\n",
    "                        exp_num=str(count).zfill(4)\n",
    "                )\n",
    "                \n",
    "                args = vars(args)\n",
    "                save_path = os.path.join(dir_path, str(count).zfill(4)+\".json\")\n",
    "                with open(save_path, 'w') as f:\n",
    "                        json.dump(args, f, indent=3)\n",
    "                count += 1"
   ]
  }
 ],
 "metadata": {
  "kernelspec": {
   "display_name": "FDS",
   "language": "python",
   "name": "python3"
  },
  "language_info": {
   "codemirror_mode": {
    "name": "ipython",
    "version": 3
   },
   "file_extension": ".py",
   "mimetype": "text/x-python",
   "name": "python",
   "nbconvert_exporter": "python",
   "pygments_lexer": "ipython3",
   "version": "3.8.16"
  },
  "orig_nbformat": 4
 },
 "nbformat": 4,
 "nbformat_minor": 2
}
