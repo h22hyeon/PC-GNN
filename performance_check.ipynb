{
 "cells": [
  {
   "cell_type": "code",
   "execution_count": 1,
   "metadata": {},
   "outputs": [],
   "source": [
    "import os\n",
    "import numpy as np\n",
    "import pandas as pd"
   ]
  },
  {
   "cell_type": "code",
   "execution_count": 4,
   "metadata": {},
   "outputs": [],
   "source": [
    "model = \"PCGNN\"\n",
    "df_path = \"experimental_results/test_df\"\n",
    "dataset_l = [\"amazon_new\", \"yelp\"]\n",
    "seed_l = [2, 3, 5, 7, 11, 13, 17, 19, 23, 29]"
   ]
  },
  {
   "cell_type": "code",
   "execution_count": 5,
   "metadata": {},
   "outputs": [
    {
     "name": "stdout",
     "output_type": "stream",
     "text": [
      "\n",
      "amazon_new - PCGNN - Supervised (40%)\n",
      "AUC-ROC: 0.9524±0.0065\n",
      "F1-macro: 0.8792±0.0137\n",
      "count = 10\n",
      "\n",
      "amazon_new - PCGNN - Semi-Supervised (1%)\n",
      "AUC-ROC: 0.9031±0.0206\n",
      "F1-macro: 0.8838±0.0297\n",
      "count = 10\n",
      "\n",
      "amazon_new - PCGNN - Semi-Supervised (10%)\n",
      "AUC-ROC: 0.9385±0.0112\n",
      "F1-macro: 0.8877±0.0094\n",
      "count = 10\n",
      "\n",
      "yelp - PCGNN - Supervised (40%)\n",
      "AUC-ROC: 0.8495±0.0138\n",
      "F1-macro: 0.7202±0.0125\n",
      "count = 10\n",
      "\n",
      "yelp - PCGNN - Semi-Supervised (1%)\n",
      "AUC-ROC: 0.7412±0.0184\n",
      "F1-macro: 0.6335±0.0154\n",
      "count = 10\n",
      "\n",
      "yelp - PCGNN - Semi-Supervised (10%)\n",
      "AUC-ROC: 0.8239±0.0093\n",
      "F1-macro: 0.6950±0.0112\n",
      "count = 10\n"
     ]
    }
   ],
   "source": [
    "for dataset in dataset_l:\n",
    "        df = pd.read_pickle(os.path.join(df_path, f\"{model}-{dataset}.pkl\"))\n",
    "        \n",
    "        seed_mask = df['seed'].astype(int).isin(seed_l)\n",
    "        df = df.loc[seed_mask]\n",
    "        \n",
    "        mask = (df[\"train_ratio\"] == 0.4) | (df[\"train_ratio\"] == \"0.4\")\n",
    "        mask_1 = (df[\"train_ratio\"] == 0.01) | (df[\"train_ratio\"] == \"0.01\")\n",
    "        mask_10= (df[\"train_ratio\"] == 0.1) | (df[\"train_ratio\"] == \"0.1\")\n",
    "        supervised = df.loc[mask]\n",
    "        semi_1 = df.loc[mask_1]\n",
    "        semi_10 = df.loc[mask_10]\n",
    "        \n",
    "        print(f\"\\n{dataset} - {model} - Supervised (40%)\")\n",
    "        print(\"AUC-ROC: {:.4f}±{:.4f}\".format(supervised['auc'].mean(),supervised['auc'].std()))\n",
    "        print(\"F1-macro: {:.4f}±{:.4f}\".format(supervised['f1_macro'].mean(), supervised['f1_macro'].std()))\n",
    "        print(f\"count = {supervised.shape[0]}\")\n",
    "        \n",
    "        print(f\"\\n{dataset} - {model} - Semi-Supervised (1%)\")\n",
    "        print(\"AUC-ROC: {:.4f}±{:.4f}\".format(semi_1['auc'].mean(),semi_1['auc'].std()))\n",
    "        print(\"F1-macro: {:.4f}±{:.4f}\".format(semi_1['f1_macro'].mean(), semi_1['f1_macro'].std()))\n",
    "        print(f\"count = {semi_1.shape[0]}\")\n",
    "        \n",
    "        print(f\"\\n{dataset} - {model} - Semi-Supervised (10%)\")\n",
    "        print(\"AUC-ROC: {:.4f}±{:.4f}\".format(semi_10['auc'].mean(),semi_10['auc'].std()))\n",
    "        print(\"F1-macro: {:.4f}±{:.4f}\".format(semi_10['f1_macro'].mean(), semi_10['f1_macro'].std()))\n",
    "        print(f\"count = {semi_10.shape[0]}\")"
   ]
  },
  {
   "cell_type": "code",
   "execution_count": null,
   "metadata": {},
   "outputs": [],
   "source": []
  }
 ],
 "metadata": {
  "kernelspec": {
   "display_name": "FDS",
   "language": "python",
   "name": "python3"
  },
  "language_info": {
   "codemirror_mode": {
    "name": "ipython",
    "version": 3
   },
   "file_extension": ".py",
   "mimetype": "text/x-python",
   "name": "python",
   "nbconvert_exporter": "python",
   "pygments_lexer": "ipython3",
   "version": "3.8.16"
  },
  "orig_nbformat": 4
 },
 "nbformat": 4,
 "nbformat_minor": 2
}
